{
 "cells": [
  {
   "cell_type": "code",
   "execution_count": 7,
   "metadata": {},
   "outputs": [],
   "source": [
    "import pandas as pd\n",
    "\n",
    "df = pd.read_csv(\"fine_tune.csv\", sep=\",\", encoding=\"utf-8\")\n",
    "\n",
    "df.drop_duplicates(inplace=True)\n",
    "\n",
    "df.to_csv(\"fine_tune.csv\", sep=\",\", encoding=\"utf-8\", index=False)"
   ]
  },
  {
   "cell_type": "code",
   "execution_count": null,
   "metadata": {},
   "outputs": [],
   "source": [
    "import pandas as pd\n",
    "from sentence_transformers import SentenceTransformer, InputExample, losses, evaluation\n",
    "from torch.utils.data import DataLoader\n",
    "\n",
    "\n",
    "model = SentenceTransformer(\"fine_tuned_mpnet\")\n",
    "df = pd.read_csv(\"fine_tune.csv\", sep=\",\", encoding=\"utf-8\")\n",
    "\n",
    "train_examples = [\n",
    "    InputExample(\n",
    "        texts=[row[\"Товар поставщика\"], row[\"Товар в магазине\"]],\n",
    "        label=float(row[\"correct_match\"]),\n",
    "    )\n",
    "    for _, row in df.iterrows()\n",
    "]\n",
    "\n",
    "train_dataloader = DataLoader(train_examples, shuffle=True, batch_size=16)\n",
    "train_loss = losses.ContrastiveLoss(model)\n",
    "\n",
    "sentences1 = df[\"Товар поставщика\"].tolist()\n",
    "sentences2 = df[\"Товар в магазине\"].tolist()\n",
    "scores = df[\"correct_match\"].astype(float).tolist()\n",
    "\n",
    "evaluator = evaluation.EmbeddingSimilarityEvaluator(sentences1, sentences2, scores)\n",
    "\n",
    "model.fit(\n",
    "    train_objectives=[(train_dataloader, train_loss)],\n",
    "    evaluator=evaluator,\n",
    "    epochs=10,\n",
    "    warmup_steps=int(len(train_dataloader) * 0.1),\n",
    "    evaluation_steps=100,\n",
    "    save_best_model=True,\n",
    "    output_path=\"fine_tuned_mpnet_v3\",\n",
    ")\n",
    "\n",
    "model.save(\"fine_tuned_mpnet_v3\")\n",
    "print(\"✅ Модель сохранена в fine_tuned_mpnet_v31\")"
   ]
  }
 ],
 "metadata": {
  "kernelspec": {
   "display_name": ".venv",
   "language": "python",
   "name": "python3"
  },
  "language_info": {
   "codemirror_mode": {
    "name": "ipython",
    "version": 3
   },
   "file_extension": ".py",
   "mimetype": "text/x-python",
   "name": "python",
   "nbconvert_exporter": "python",
   "pygments_lexer": "ipython3",
   "version": "3.13.1"
  }
 },
 "nbformat": 4,
 "nbformat_minor": 2
}
